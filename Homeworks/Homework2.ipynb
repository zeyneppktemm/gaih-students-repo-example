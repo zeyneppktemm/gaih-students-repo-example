{
 "cells": [
  {
   "cell_type": "markdown",
   "metadata": {},
   "source": [
    "## Homework - 2 \n",
    "### CV Uygulaması"
   ]
  },
  {
   "cell_type": "code",
   "execution_count": 19,
   "metadata": {},
   "outputs": [],
   "source": [
    "people1={'Id':'1','NationalityId':'111111111','Name':'Güliz','Surname':'Çakmak','YearOfBirth':'1995'}\n",
    "people2={'Id':'2','NationalityId':'222222222','Name':'Veli','Surname':'Ayaz','YearOfBirth':'1993'}\n",
    "people3={'Id':'3','NationalityId':'333333333','Name':'Ayşe','Surname':'Toprak','YearOfBirth':'1990'}\n",
    "people4={'Id':'4','NationalityId':'444444444','Name':'Meryem','Surname':'Korkmaz','YearOfBirth':'1991'}\n",
    "people5={'Id':'5','NationalityId':'555555555','Name':'Ali','Surname':'Öztürk','YearOfBirth':'1996'}"
   ]
  },
  {
   "cell_type": "code",
   "execution_count": 20,
   "metadata": {},
   "outputs": [],
   "source": [
    "peoples = [people1,people2,people3,people4,people5]"
   ]
  },
  {
   "cell_type": "code",
   "execution_count": 27,
   "metadata": {},
   "outputs": [
    {
     "name": "stdout",
     "output_type": "stream",
     "text": [
      "----- CV - 1 -----\n",
      "Id : 1\n",
      "NationalityId : 111111111\n",
      "Name : Güliz\n",
      "Surname : Çakmak\n",
      "YearOfBirth : 1995\n",
      "----- CV - 2 -----\n",
      "Id : 2\n",
      "NationalityId : 222222222\n",
      "Name : Veli\n",
      "Surname : Ayaz\n",
      "YearOfBirth : 1993\n",
      "----- CV - 3 -----\n",
      "Id : 3\n",
      "NationalityId : 333333333\n",
      "Name : Ayşe\n",
      "Surname : Toprak\n",
      "YearOfBirth : 1990\n",
      "----- CV - 4 -----\n",
      "Id : 4\n",
      "NationalityId : 444444444\n",
      "Name : Meryem\n",
      "Surname : Korkmaz\n",
      "YearOfBirth : 1991\n",
      "----- CV - 5 -----\n",
      "Id : 5\n",
      "NationalityId : 555555555\n",
      "Name : Ali\n",
      "Surname : Öztürk\n",
      "YearOfBirth : 1996\n"
     ]
    }
   ],
   "source": [
    "for i in peoples:\n",
    "    print('----- CV - '+i['Id']+\" -----\")\n",
    "    for k,v in i.items():\n",
    "        print(k+\" : \"+v)"
   ]
  },
  {
   "cell_type": "code",
   "execution_count": null,
   "metadata": {},
   "outputs": [],
   "source": []
  }
 ],
 "metadata": {
  "kernelspec": {
   "display_name": "Python 3",
   "language": "python",
   "name": "python3"
  },
  "language_info": {
   "codemirror_mode": {
    "name": "ipython",
    "version": 3
   },
   "file_extension": ".py",
   "mimetype": "text/x-python",
   "name": "python",
   "nbconvert_exporter": "python",
   "pygments_lexer": "ipython3",
   "version": "3.8.3"
  }
 },
 "nbformat": 4,
 "nbformat_minor": 4
}
