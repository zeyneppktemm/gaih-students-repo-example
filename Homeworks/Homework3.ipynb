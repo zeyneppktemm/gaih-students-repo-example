{
 "cells": [
  {
   "cell_type": "markdown",
   "metadata": {},
   "source": [
    "## Homework - 3\n",
    "### Course Grade Application"
   ]
  },
  {
   "cell_type": "code",
   "execution_count": 66,
   "metadata": {},
   "outputs": [],
   "source": [
    "students=[]"
   ]
  },
  {
   "cell_type": "code",
   "execution_count": 67,
   "metadata": {},
   "outputs": [
    {
     "name": "stdout",
     "output_type": "stream",
     "text": [
      "Name : Ayşe\n",
      "Midterm Grade : 100\n",
      "Project Grade : 90\n",
      "Final Grade : 80\n",
      "Name : Ali\n",
      "Midterm Grade : 56\n",
      "Project Grade : 45\n",
      "Final Grade : 97\n",
      "Name : Emre\n",
      "Midterm Grade : 100\n",
      "Project Grade : 65\n",
      "Final Grade : 74\n",
      "Name : Zeynep\n",
      "Midterm Grade : 54\n",
      "Project Grade : 75\n",
      "Final Grade : 81\n",
      "Name : Ceyda\n",
      "Midterm Grade : 45\n",
      "Project Grade : 65\n",
      "Final Grade : 78\n"
     ]
    }
   ],
   "source": [
    "for i in range(5):\n",
    "    student = {'Name':input('Name : '),'midterm_grade':input('Midterm Grade : '),'project_grade':input('Project Grade : '),'final_grade':input('Final Grade : '),'passing_grade':''}\n",
    "    passing_grade = ((float(student['midterm_grade'])*(0.3))+(float(student['project_grade'])*(0.3))+(float(student['final_grade'])*(0.4)))\n",
    "    student['passing_grade'] = passing_grade \n",
    "    students.append(student)"
   ]
  },
  {
   "cell_type": "code",
   "execution_count": 68,
   "metadata": {},
   "outputs": [],
   "source": [
    "def grade(student):\n",
    "    return student['passing_grade']"
   ]
  },
  {
   "cell_type": "code",
   "execution_count": 69,
   "metadata": {},
   "outputs": [],
   "source": [
    "for i in students:\n",
    "    students.sort(reverse = True ,key = grade)"
   ]
  },
  {
   "cell_type": "code",
   "execution_count": 80,
   "metadata": {},
   "outputs": [
    {
     "name": "stdout",
     "output_type": "stream",
     "text": [
      "--------------\n",
      "Name : Ayşe\n",
      "midterm_grade : 100\n",
      "project_grade : 90\n",
      "final_grade : 80\n",
      "passing_grade : 89.0\n",
      "--------------\n",
      "Name : Emre\n",
      "midterm_grade : 100\n",
      "project_grade : 65\n",
      "final_grade : 74\n",
      "passing_grade : 79.1\n",
      "--------------\n",
      "Name : Zeynep\n",
      "midterm_grade : 54\n",
      "project_grade : 75\n",
      "final_grade : 81\n",
      "passing_grade : 71.1\n",
      "--------------\n",
      "Name : Ali\n",
      "midterm_grade : 56\n",
      "project_grade : 45\n",
      "final_grade : 97\n",
      "passing_grade : 69.10000000000001\n",
      "--------------\n",
      "Name : Ceyda\n",
      "midterm_grade : 45\n",
      "project_grade : 65\n",
      "final_grade : 78\n",
      "passing_grade : 64.2\n"
     ]
    }
   ],
   "source": [
    "for i in students:\n",
    "    print(\"--------------\")\n",
    "    for k,v in i.items():\n",
    "        print(k+ \" : \"+str(v))"
   ]
  }
 ],
 "metadata": {
  "kernelspec": {
   "display_name": "Python 3",
   "language": "python",
   "name": "python3"
  },
  "language_info": {
   "codemirror_mode": {
    "name": "ipython",
    "version": 3
   },
   "file_extension": ".py",
   "mimetype": "text/x-python",
   "name": "python",
   "nbconvert_exporter": "python",
   "pygments_lexer": "ipython3",
   "version": "3.8.3"
  }
 },
 "nbformat": 4,
 "nbformat_minor": 4
}
