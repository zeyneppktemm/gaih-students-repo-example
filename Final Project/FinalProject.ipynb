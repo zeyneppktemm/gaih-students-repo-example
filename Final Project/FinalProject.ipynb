{
 "cells": [
  {
   "cell_type": "markdown",
   "metadata": {},
   "source": [
    "## Final Project\n",
    "### Knowledge competition"
   ]
  },
  {
   "cell_type": "code",
   "execution_count": 29,
   "metadata": {},
   "outputs": [],
   "source": [
    "questions = {'1 Byte kaç Bittir?' : '8',\n",
    "            'Apple firması kaç yılında kurulmuştur?' : '1976',\n",
    "            'Bilgisayar tarihinin ilk virüsü nedir?' : 'Brain',\n",
    "            'Bilgiler geçici olarak hangi bellek üzerinde tutulur?' : 'Ram',\n",
    "            'Elektrikler kesildiği zaman üzerindeki bilgiler silinen bellek türü aşağıdakilerden hangisidir?' : 'Ram',\n",
    "            'Bilgisayarda aritmetiksel işlemleri yapan ve sonuçlandıran donanım birimi hangisidir?' : 'CPU',\n",
    "            'Merkezi işlem biriminin takıldığı donanım birimi aşağıdakilerden hangisidir?' : 'Anakart',\n",
    "            'Ctrl+S kısayol tuşları ile gerçekleştirilen işlem aşağıdakilerden hangisidir?' : 'Kaydetme',\n",
    "            'CPU’nun hız birimi nedir?' : 'GHz',\n",
    "            'Bilgisayarın her türlü elektronik aksamına ne ad verilir?' : 'Donanım'}"
   ]
  },
  {
   "cell_type": "code",
   "execution_count": 30,
   "metadata": {},
   "outputs": [],
   "source": [
    "userAnswer = {}\n",
    "count = 0"
   ]
  },
  {
   "cell_type": "code",
   "execution_count": 31,
   "metadata": {},
   "outputs": [
    {
     "name": "stdout",
     "output_type": "stream",
     "text": [
      "1 Byte kaç Bittir?\n",
      "8\n",
      "Apple firması kaç yılında kurulmuştur?\n",
      "1976\n",
      "Bilgisayar tarihinin ilk virüsü nedir?\n",
      "brain\n",
      "Bilgiler geçici olarak hangi bellek üzerinde tutulur?\n",
      "ram\n",
      "Elektrikler kesildiği zaman üzerindeki bilgiler silinen bellek türü aşağıdakilerden hangisidir?\n",
      "ram\n",
      "Bilgisayarda aritmetiksel işlemleri yapan ve sonuçlandıran donanım birimi hangisidir?\n",
      "cpu\n",
      "Merkezi işlem biriminin takıldığı donanım birimi aşağıdakilerden hangisidir?\n",
      "ANAKART\n",
      "Ctrl+S kısayol tuşları ile gerçekleştirilen işlem aşağıdakilerden hangisidir?\n",
      "KAYDETME\n",
      "CPU’nun hız birimi nedir?\n",
      "ghz\n",
      "Bilgisayarın her türlü elektronik aksamına ne ad verilir?\n",
      "donanım\n"
     ]
    }
   ],
   "source": [
    "for k,v in questions.items():\n",
    "    print(k)\n",
    "    answer = input()\n",
    "    userAnswer[k] = answer;\n",
    "    \n",
    "    if answer.upper() == v.upper():\n",
    "        count += 1"
   ]
  },
  {
   "cell_type": "code",
   "execution_count": 32,
   "metadata": {},
   "outputs": [
    {
     "name": "stdout",
     "output_type": "stream",
     "text": [
      "Successful! Score : 100\n"
     ]
    }
   ],
   "source": [
    "if count >= 5:\n",
    "    print('Successful! Score : ' + str(count*10))\n",
    "else:\n",
    "    print('Unseccussful! Score : ' + str(count*10))"
   ]
  }
 ],
 "metadata": {
  "kernelspec": {
   "display_name": "Python 3",
   "language": "python",
   "name": "python3"
  },
  "language_info": {
   "codemirror_mode": {
    "name": "ipython",
    "version": 3
   },
   "file_extension": ".py",
   "mimetype": "text/x-python",
   "name": "python",
   "nbconvert_exporter": "python",
   "pygments_lexer": "ipython3",
   "version": "3.8.3"
  }
 },
 "nbformat": 4,
 "nbformat_minor": 4
}
